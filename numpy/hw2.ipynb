{
  "metadata": {
    "kernelspec": {
      "name": "python",
      "display_name": "Python (Pyodide)",
      "language": "python"
    },
    "language_info": {
      "codemirror_mode": {
        "name": "python",
        "version": 3
      },
      "file_extension": ".py",
      "mimetype": "text/x-python",
      "name": "python",
      "nbconvert_exporter": "python",
      "pygments_lexer": "ipython3",
      "version": "3.8"
    }
  },
  "nbformat_minor": 4,
  "nbformat": 4,
  "cells": [
    {
      "cell_type": "markdown",
      "source": "در سلول زیر بخش مربوط به ترانهاده را کامل کنید",
      "metadata": {
        "pycharm": {
          "name": "#%% md\n"
        }
      }
    },
    {
      "cell_type": "code",
      "source": "def transpose_matrix(a):\n    result_transpose = []\n    for elements in range(len(a)):\n        for i in range(len(a)):\n            result_transpose[elements][i]=a[i][elements]\n    return result_transpose",
      "metadata": {
        "collapsed": false,
        "pycharm": {
          "name": "#%%\n"
        },
        "jupyter": {
          "outputs_hidden": false
        },
        "trusted": true
      },
      "execution_count": 8,
      "outputs": []
    },
    {
      "cell_type": "markdown",
      "source": "در سلول زیر بخش مربوط به ضرب را کامل کنید\n",
      "metadata": {
        "pycharm": {
          "name": "#%% md\n"
        }
      }
    },
    {
      "cell_type": "code",
      "source": "def multiplication_matrix(a, b):\n    result_multiplication = []\n    for elements1 in range(len(a)):\n        for elements2 in range(len(b)):\n            pass",
      "metadata": {
        "collapsed": false,
        "pycharm": {
          "name": "#%%\n"
        },
        "jupyter": {
          "outputs_hidden": false
        }
      },
      "execution_count": 14,
      "outputs": []
    },
    {
      "cell_type": "markdown",
      "source": "در سلول زیر بخش مربوط به جمع را کامل کنید\n\n",
      "metadata": {
        "pycharm": {
          "name": "#%% md\n"
        }
      }
    },
    {
      "cell_type": "code",
      "source": "def addition_matrix(a, b):\n    result_addition = []\n    for elements1 in range(len(a)):\n        for elements2 in range(len(b)):\n            if(elements1==elements2):\n                result_addition=a[elements1]+b[elements2]\n    return result_addition ",
      "metadata": {
        "collapsed": false,
        "pycharm": {
          "name": "#%%\n"
        },
        "jupyter": {
          "outputs_hidden": false
        },
        "trusted": true
      },
      "execution_count": 10,
      "outputs": []
    },
    {
      "cell_type": "markdown",
      "source": "در این قسمت به کاربر یک منو نمایش دهید تا عملیات مورد نظر خودش را انتخاب کند\n",
      "metadata": {
        "pycharm": {
          "name": "#%% md\n"
        }
      }
    },
    {
      "cell_type": "code",
      "source": "n = input('Please Enter What You Want to Calculate')\nfirst_matrix = input()\nif n == '1':\n    transpose_matrix(first_matrix)\nelif n ==  '2':\n    second_matrix = input()\n    multiplication_matrix(first_matrix, second_matrix)\nelif n == '3':\n    second_matrix = input()\n    addition_matrix(first_matrix, second_matrix)\n",
      "metadata": {
        "collapsed": false,
        "pycharm": {
          "name": "#%%\n"
        },
        "jupyter": {
          "outputs_hidden": false
        },
        "trusted": true
      },
      "execution_count": 13,
      "outputs": [
        {
          "output_type": "stream",
          "name": "stdin",
          "text": "Please Enter What You Want to Calculate 3\n [[4,0,0,3,0,1,1,2,1,2,9]]\n"
        }
      ]
    },
    {
      "cell_type": "code",
      "source": "#transpose\nimport numpy as np\n\narr1 = np.array([[4,0,0,3,0,1,1,2,1,2,9]])\n\narr1_transpose = arr1.transpose()\narr1_transpose",
      "metadata": {
        "trusted": true
      },
      "execution_count": 27,
      "outputs": [
        {
          "execution_count": 27,
          "output_type": "execute_result",
          "data": {
            "text/plain": "array([[4],\n       [0],\n       [0],\n       [3],\n       [0],\n       [1],\n       [1],\n       [2],\n       [1],\n       [2],\n       [9]])"
          },
          "metadata": {}
        }
      ]
    },
    {
      "cell_type": "code",
      "source": "#multiplication\nimport numpy as np\nb=np.array([[4,0,0,3,0,1,1,2,1,2,9]])\nc=b.transpose()\nd=c.dot(b)\n#b@c\nb.dot(c)",
      "metadata": {
        "trusted": true
      },
      "execution_count": 4,
      "outputs": [
        {
          "execution_count": 4,
          "output_type": "execute_result",
          "data": {
            "text/plain": "array([[117]])"
          },
          "metadata": {}
        }
      ]
    },
    {
      "cell_type": "code",
      "source": "#addition\nimport numpy as np\nb=np.array([[4,0,0,3,0,1,1,2,1,2,9]])\nc=b.transpose()\nd=b.dot(c)\nnp.add(b, d)",
      "metadata": {
        "trusted": true
      },
      "execution_count": 33,
      "outputs": [
        {
          "execution_count": 33,
          "output_type": "execute_result",
          "data": {
            "text/plain": "array([[121, 117, 117, 120, 117, 118, 118, 119, 118, 119, 126]])"
          },
          "metadata": {}
        }
      ]
    },
    {
      "cell_type": "code",
      "source": "",
      "metadata": {},
      "execution_count": null,
      "outputs": []
    }
  ]
}