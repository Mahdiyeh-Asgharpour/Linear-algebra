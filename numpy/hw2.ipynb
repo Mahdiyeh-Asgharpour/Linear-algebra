{
  "metadata": {
    "kernelspec": {
      "name": "python",
      "display_name": "Python (Pyodide)",
      "language": "python"
    },
    "language_info": {
      "codemirror_mode": {
        "name": "python",
        "version": 3
      },
      "file_extension": ".py",
      "mimetype": "text/x-python",
      "name": "python",
      "nbconvert_exporter": "python",
      "pygments_lexer": "ipython3",
      "version": "3.8"
    }
  },
  "nbformat_minor": 4,
  "nbformat": 4,
  "cells": [
    {
      "cell_type": "markdown",
      "source": "در سلول زیر بخش مربوط به ترانهاده را کامل کنید",
      "metadata": {
        "pycharm": {
          "name": "#%% md\n"
        }
      }
    },
    {
      "cell_type": "code",
      "source": "import numpy as np\ndef transpose_matrix(input):\n    b=np.array(input)\n    a=np.matrix(b)\n    result_transpose =np.zeros(len(a),len(a[0]))\n    for elements in range(len(a)):\n        for i in range(len(a[0])):\n            result_transpose[elements][i]=a[i][elements]\n    return result_transpose\ntranspose_matrix([4,0,0,3,0,1,1,2,1,2,9])",
      "metadata": {
        "collapsed": false,
        "pycharm": {
          "name": "#%%\n"
        },
        "jupyter": {
          "outputs_hidden": false
        },
        "trusted": true
      },
      "execution_count": 25,
      "outputs": [
        {
          "ename": "<class 'TypeError'>",
          "evalue": "Cannot interpret '1' as a data type",
          "traceback": [
            "\u001b[0;31m---------------------------------------------------------------------------\u001b[0m",
            "\u001b[0;31mTypeError\u001b[0m                                 Traceback (most recent call last)",
            "Cell \u001b[0;32mIn[25], line 10\u001b[0m\n\u001b[1;32m      8\u001b[0m             result_transpose[elements][i]\u001b[38;5;241m=\u001b[39ma[i][elements]\n\u001b[1;32m      9\u001b[0m     \u001b[38;5;28;01mreturn\u001b[39;00m result_transpose\n\u001b[0;32m---> 10\u001b[0m \u001b[43mtranspose_matrix\u001b[49m\u001b[43m(\u001b[49m\u001b[43m[\u001b[49m\u001b[38;5;241;43m4\u001b[39;49m\u001b[43m,\u001b[49m\u001b[38;5;241;43m0\u001b[39;49m\u001b[43m,\u001b[49m\u001b[38;5;241;43m0\u001b[39;49m\u001b[43m,\u001b[49m\u001b[38;5;241;43m3\u001b[39;49m\u001b[43m,\u001b[49m\u001b[38;5;241;43m0\u001b[39;49m\u001b[43m,\u001b[49m\u001b[38;5;241;43m1\u001b[39;49m\u001b[43m,\u001b[49m\u001b[38;5;241;43m1\u001b[39;49m\u001b[43m,\u001b[49m\u001b[38;5;241;43m2\u001b[39;49m\u001b[43m,\u001b[49m\u001b[38;5;241;43m1\u001b[39;49m\u001b[43m,\u001b[49m\u001b[38;5;241;43m2\u001b[39;49m\u001b[43m,\u001b[49m\u001b[38;5;241;43m9\u001b[39;49m\u001b[43m]\u001b[49m\u001b[43m)\u001b[49m\n",
            "Cell \u001b[0;32mIn[25], line 5\u001b[0m, in \u001b[0;36mtranspose_matrix\u001b[0;34m(input)\u001b[0m\n\u001b[1;32m      3\u001b[0m b\u001b[38;5;241m=\u001b[39mnp\u001b[38;5;241m.\u001b[39marray(\u001b[38;5;28minput\u001b[39m)\n\u001b[1;32m      4\u001b[0m a\u001b[38;5;241m=\u001b[39mnp\u001b[38;5;241m.\u001b[39mmatrix(b)\n\u001b[0;32m----> 5\u001b[0m result_transpose \u001b[38;5;241m=\u001b[39m\u001b[43mnp\u001b[49m\u001b[38;5;241;43m.\u001b[39;49m\u001b[43mzeros\u001b[49m\u001b[43m(\u001b[49m\u001b[38;5;28;43mlen\u001b[39;49m\u001b[43m(\u001b[49m\u001b[43ma\u001b[49m\u001b[43m)\u001b[49m\u001b[43m,\u001b[49m\u001b[38;5;28;43mlen\u001b[39;49m\u001b[43m(\u001b[49m\u001b[43ma\u001b[49m\u001b[43m[\u001b[49m\u001b[38;5;241;43m0\u001b[39;49m\u001b[43m]\u001b[49m\u001b[43m)\u001b[49m\u001b[43m)\u001b[49m\n\u001b[1;32m      6\u001b[0m \u001b[38;5;28;01mfor\u001b[39;00m elements \u001b[38;5;129;01min\u001b[39;00m \u001b[38;5;28mrange\u001b[39m(\u001b[38;5;28mlen\u001b[39m(a)):\n\u001b[1;32m      7\u001b[0m     \u001b[38;5;28;01mfor\u001b[39;00m i \u001b[38;5;129;01min\u001b[39;00m \u001b[38;5;28mrange\u001b[39m(\u001b[38;5;28mlen\u001b[39m(a[\u001b[38;5;241m0\u001b[39m])):\n",
            "\u001b[0;31mTypeError\u001b[0m: Cannot interpret '1' as a data type"
          ],
          "output_type": "error"
        }
      ]
    },
    {
      "cell_type": "markdown",
      "source": "در سلول زیر بخش مربوط به ضرب را کامل کنید\n",
      "metadata": {
        "pycharm": {
          "name": "#%% md\n"
        }
      }
    },
    {
      "cell_type": "code",
      "source": "def multiplication_matrix(a, b):\n    result_multiplication =np.zeros(len(a),len(a[0]))\n    for elements1 in range(len(a)):\n        for j in range(len(b[0])):\n            r=0\n            for elements2 in range(len(b)):\n                r+=a[elements1][elements2]*b[elements2][j]\n            result_multiplication[elements1][j]=r\n    return result_multiplication",
      "metadata": {
        "collapsed": false,
        "pycharm": {
          "name": "#%%\n"
        },
        "jupyter": {
          "outputs_hidden": false
        },
        "trusted": true
      },
      "execution_count": 13,
      "outputs": []
    },
    {
      "cell_type": "markdown",
      "source": "در سلول زیر بخش مربوط به جمع را کامل کنید\n\n",
      "metadata": {
        "pycharm": {
          "name": "#%% md\n"
        }
      }
    },
    {
      "cell_type": "code",
      "source": "def addition_matrix(a, b):\n    result_addition =np.zeros(len(a),len(a[0]))\n    for elements1 in range(len(a)):\n        for elements2 in range(len(b)):\n            if(elements1==elements2):\n                result_addition[elements1][elements2]=a[elements1][elements2]+b[elements1][elements2]\n    return result_addition ",
      "metadata": {
        "collapsed": false,
        "pycharm": {
          "name": "#%%\n"
        },
        "jupyter": {
          "outputs_hidden": false
        },
        "trusted": true
      },
      "execution_count": 11,
      "outputs": []
    },
    {
      "cell_type": "markdown",
      "source": "در این قسمت به کاربر یک منو نمایش دهید تا عملیات مورد نظر خودش را انتخاب کند\n",
      "metadata": {
        "pycharm": {
          "name": "#%% md\n"
        }
      }
    },
    {
      "cell_type": "code",
      "source": "n = input('Please Enter What You Want to Calculate')\nfirst_matrix = input()\nif n== '1':\n    # transpose_matrix(first_matrix)\n    #print(transpose_matrix(first_matrix))\n    m=transpose_matrix(first_matrix)\n    print(m)\nelif n ==  '2':\n    second_matrix = input()\n    m=multiplication_matrix(first_matrix, second_matrix)\n    print(m)\nelif n == '3':\n    second_matrix = input()\n    m=addition_matrix(first_matrix, second_matrix)\n    print(m)\n",
      "metadata": {
        "collapsed": false,
        "pycharm": {
          "name": "#%%\n"
        },
        "jupyter": {
          "outputs_hidden": false
        },
        "trusted": true
      },
      "execution_count": 10,
      "outputs": [
        {
          "output_type": "stream",
          "name": "stdin",
          "text": "Please Enter What You Want to Calculate 1\n [[4,0,0,3,0,1,1,2,1,2,9]]\n"
        }
      ]
    },
    {
      "cell_type": "code",
      "source": "#transpose\nimport numpy as np\n\narr1 = np.array([4,0,0,3,0,1,1,2,1,2,9])\narr2 = numpy.matrix(arr1)\narr1_transpose = arr2.transpose()\narr1_transpose",
      "metadata": {
        "trusted": true
      },
      "execution_count": 19,
      "outputs": [
        {
          "execution_count": 19,
          "output_type": "execute_result",
          "data": {
            "text/plain": "matrix([[4],\n        [0],\n        [0],\n        [3],\n        [0],\n        [1],\n        [1],\n        [2],\n        [1],\n        [2],\n        [9]])"
          },
          "metadata": {}
        }
      ]
    },
    {
      "cell_type": "code",
      "source": "#multiplication\nimport numpy as np\nb=np.array([4,0,0,3,0,1,1,2,1,2,9])\nc=np.array([16,0,0,9,0,1,1,4,1,4,81])\na = numpy.matrix(b)\nd = numpy.matrix(c)\ne = numpy.transpose(d)\nfinal = numpy.matrix.__mul__(a,e)\nfinal",
      "metadata": {
        "trusted": true
      },
      "execution_count": 21,
      "outputs": [
        {
          "execution_count": 21,
          "output_type": "execute_result",
          "data": {
            "text/plain": "matrix([[839]])"
          },
          "metadata": {}
        }
      ]
    },
    {
      "cell_type": "code",
      "source": "#addition\nimport numpy as np\nb=np.array([4,0,0,3,0,1,1,2,1,2,9])\nc=np.array([16,0,0,9,0,1,1,4,1,4,81])\na = numpy.matrix(b)\nd = numpy.matrix(c)\ne = numpy.transpose(a)\nf = numpy.transpose(d)\nfinal = numpy.matrix.__add__(e,f)\nfinal",
      "metadata": {
        "trusted": true
      },
      "execution_count": 22,
      "outputs": [
        {
          "execution_count": 22,
          "output_type": "execute_result",
          "data": {
            "text/plain": "matrix([[20],\n        [ 0],\n        [ 0],\n        [12],\n        [ 0],\n        [ 2],\n        [ 2],\n        [ 6],\n        [ 2],\n        [ 6],\n        [90]])"
          },
          "metadata": {}
        }
      ]
    }
  ]
}