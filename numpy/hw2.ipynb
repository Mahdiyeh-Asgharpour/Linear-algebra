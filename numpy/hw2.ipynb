{
  "metadata": {
    "kernelspec": {
      "name": "python",
      "display_name": "Python (Pyodide)",
      "language": "python"
    },
    "language_info": {
      "codemirror_mode": {
        "name": "python",
        "version": 3
      },
      "file_extension": ".py",
      "mimetype": "text/x-python",
      "name": "python",
      "nbconvert_exporter": "python",
      "pygments_lexer": "ipython3",
      "version": "3.8"
    }
  },
  "nbformat_minor": 4,
  "nbformat": 4,
  "cells": [
    {
      "cell_type": "markdown",
      "source": "در سلول زیر بخش مربوط به ترانهاده را کامل کنید",
      "metadata": {
        "pycharm": {
          "name": "#%% md\n"
        }
      }
    },
    {
      "cell_type": "code",
      "source": "def transpose_matrix(a):\n    result_transpose = []\n    for elements in range(len(a)):\n        for i in range(len(a)):\n            result_transpose[elements][i]=a[i][elements]\n    return result_transpose",
      "metadata": {
        "collapsed": false,
        "pycharm": {
          "name": "#%%\n"
        },
        "jupyter": {
          "outputs_hidden": false
        },
        "trusted": true
      },
      "execution_count": 8,
      "outputs": []
    },
    {
      "cell_type": "markdown",
      "source": "در سلول زیر بخش مربوط به ضرب را کامل کنید\n",
      "metadata": {
        "pycharm": {
          "name": "#%% md\n"
        }
      }
    },
    {
      "cell_type": "code",
      "source": "def multiplication_matrix(a, b):\n    result_multiplication = []\n    for elements1 in range(len(a)):\n        for j in range(len(b[0])):\n            for elements2 in range(len(b)):\n                    result_multiplication[elements1][j]+=a[elements1][elements2]*b[elements2][j]",
      "metadata": {
        "collapsed": false,
        "pycharm": {
          "name": "#%%\n"
        },
        "jupyter": {
          "outputs_hidden": false
        },
        "trusted": true
      },
      "execution_count": 7,
      "outputs": []
    },
    {
      "cell_type": "markdown",
      "source": "در سلول زیر بخش مربوط به جمع را کامل کنید\n\n",
      "metadata": {
        "pycharm": {
          "name": "#%% md\n"
        }
      }
    },
    {
      "cell_type": "code",
      "source": "def addition_matrix(a, b):\n    result_addition = []\n    for elements1 in range(len(a)):\n        for elements2 in range(len(b)):\n            if(elements1==elements2):\n                result_addition=a[elements1]+b[elements2]\n    return result_addition ",
      "metadata": {
        "collapsed": false,
        "pycharm": {
          "name": "#%%\n"
        },
        "jupyter": {
          "outputs_hidden": false
        },
        "trusted": true
      },
      "execution_count": 10,
      "outputs": []
    },
    {
      "cell_type": "markdown",
      "source": "در این قسمت به کاربر یک منو نمایش دهید تا عملیات مورد نظر خودش را انتخاب کند\n",
      "metadata": {
        "pycharm": {
          "name": "#%% md\n"
        }
      }
    },
    {
      "cell_type": "code",
      "source": "n = input('Please Enter What You Want to Calculate')\nfirst_matrix = input()\nif n== '1':\n    # transpose_matrix(first_matrix)\n    #print(transpose_matrix(first_matrix))\n    m=transpose_matrix(first_matrix)\n    print(m)\nelif n ==  '2':\n    second_matrix = input()\n    m=multiplication_matrix(first_matrix, second_matrix)\n    print(m)\nelif n == '3':\n    second_matrix = input()\n    m=addition_matrix(first_matrix, second_matrix)\n    print(m)\n",
      "metadata": {
        "collapsed": false,
        "pycharm": {
          "name": "#%%\n"
        },
        "jupyter": {
          "outputs_hidden": false
        },
        "trusted": true
      },
      "execution_count": 5,
      "outputs": [
        {
          "output_type": "stream",
          "name": "stdin",
          "text": "Please Enter What You Want to Calculate 2\n [[4,0,0,3,0,1,1,2,1,2,9]]\n"
        }
      ]
    },
    {
      "cell_type": "code",
      "source": "#transpose\nimport numpy as np\n\narr1 = np.array([[4,0,0,3,0,1,1,2,1,2,9]])\n\narr1_transpose = arr1.transpose()\narr1_transpose",
      "metadata": {
        "trusted": true
      },
      "execution_count": 27,
      "outputs": [
        {
          "execution_count": 27,
          "output_type": "execute_result",
          "data": {
            "text/plain": "array([[4],\n       [0],\n       [0],\n       [3],\n       [0],\n       [1],\n       [1],\n       [2],\n       [1],\n       [2],\n       [9]])"
          },
          "metadata": {}
        }
      ]
    },
    {
      "cell_type": "code",
      "source": "#multiplication\nimport numpy as np\nb=np.array([[4,0,0,3,0,1,1,2,1,2,9]])\nc=np.array([[16],\n       [0],\n       [0],\n       [9],\n       [0],\n       [1],\n       [1],\n       [4],\n       [1],\n       [4],\n       [81]])\n#b@c\nb.dot(c)",
      "metadata": {
        "trusted": true
      },
      "execution_count": 2,
      "outputs": [
        {
          "execution_count": 2,
          "output_type": "execute_result",
          "data": {
            "text/plain": "array([[839]])"
          },
          "metadata": {}
        }
      ]
    },
    {
      "cell_type": "code",
      "source": "#addition\nimport numpy as np\nb=np.array([[4,0,0,3,0,1,1,2,1,2,9]])\nc=np.array([[16],\n       [0],\n       [0],\n       [9],\n       [0],\n       [1],\n       [1],\n       [4],\n       [1],\n       [4],\n       [81]])\nnp.add(b, c)",
      "metadata": {
        "trusted": true
      },
      "execution_count": 3,
      "outputs": [
        {
          "execution_count": 3,
          "output_type": "execute_result",
          "data": {
            "text/plain": "array([[20, 16, 16, 19, 16, 17, 17, 18, 17, 18, 25],\n       [ 4,  0,  0,  3,  0,  1,  1,  2,  1,  2,  9],\n       [ 4,  0,  0,  3,  0,  1,  1,  2,  1,  2,  9],\n       [13,  9,  9, 12,  9, 10, 10, 11, 10, 11, 18],\n       [ 4,  0,  0,  3,  0,  1,  1,  2,  1,  2,  9],\n       [ 5,  1,  1,  4,  1,  2,  2,  3,  2,  3, 10],\n       [ 5,  1,  1,  4,  1,  2,  2,  3,  2,  3, 10],\n       [ 8,  4,  4,  7,  4,  5,  5,  6,  5,  6, 13],\n       [ 5,  1,  1,  4,  1,  2,  2,  3,  2,  3, 10],\n       [ 8,  4,  4,  7,  4,  5,  5,  6,  5,  6, 13],\n       [85, 81, 81, 84, 81, 82, 82, 83, 82, 83, 90]])"
          },
          "metadata": {}
        }
      ]
    }
  ]
}