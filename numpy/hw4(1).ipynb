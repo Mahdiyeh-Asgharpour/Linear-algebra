{
  "metadata": {
    "kernelspec": {
      "name": "python",
      "display_name": "Python (Pyodide)",
      "language": "python"
    },
    "language_info": {
      "codemirror_mode": {
        "name": "python",
        "version": 3
      },
      "file_extension": ".py",
      "mimetype": "text/x-python",
      "name": "python",
      "nbconvert_exporter": "python",
      "pygments_lexer": "ipython3",
      "version": "3.8"
    }
  },
  "nbformat_minor": 4,
  "nbformat": 4,
  "cells": [
    {
      "cell_type": "markdown",
      "source": ".در سلول زیر، تابعی برای محاسبه‌ی بازگشتی دترمینان تعریف کنید",
      "metadata": {
        "pycharm": {
          "name": "#%% md\n"
        }
      }
    },
    {
      "cell_type": "code",
      "source": "def determinant(matrix):\n    n = len(matrix)\n    if n == 1:\n        return matrix[0][0]\n    elif n == 2:\n        return matrix[0][0]*matrix[1][1] - matrix[0][1]*matrix[1][0]\n    else:\n        det = 0\n        for j in range(n):\n            sub_matrix = [[matrix[i][k] for k in range(n) if k != j] for i in range(1, n)]\n            det += (-1)**j * matrix[0][j] * determinant(sub_matrix)\n        return det\n",
      "metadata": {
        "collapsed": false,
        "pycharm": {
          "name": "#%%\n"
        },
        "jupyter": {
          "outputs_hidden": false
        }
      },
      "execution_count": 13,
      "outputs": []
    },
    {
      "cell_type": "markdown",
      "source": ".در سلول زیر قانون کرامر را در تابعی پیاده‌سازی کنید",
      "metadata": {
        "pycharm": {
          "name": "#%% md\n"
        }
      }
    },
    {
      "cell_type": "code",
      "source": "\ndef cramer_rule(a, b):\n    deta=determinant(a)\n    i=input(\"i:\")\n    result_multiplication = []\n    for j in range(n):\n        a[j][i]=b[j][1]\n    for i in range(n):\n        for j in range(n):\n            result_multiplication[i][j] = a[i][j]\n    detr=determinant(result_multiplication)\n    print(int(deta)/int(detr))\n    print(result_multiplication)\n    \na=[]\nb=[]\nn=input(\"n\")\nfor i in range(n):\n    for j in range(n):\n        a[i][j]=input()\nprint(\"b:\")\nfor j in range(n):\n    b[j][1]=input()\n\ncramer_rule(a,b)",
      "metadata": {
        "collapsed": false,
        "pycharm": {
          "name": "#%%\n"
        },
        "jupyter": {
          "outputs_hidden": false
        }
      },
      "execution_count": 14,
      "outputs": []
    },
    {
      "cell_type": "markdown",
      "source": "\tT(cX)=cT(X)",
      "metadata": {
        "pycharm": {
          "name": "#%% md\n"
        }
      }
    },
    {
      "cell_type": "code",
      "source": "# prove here\na=input()\nc=input()\ndef function(x):\n    y=5*int(x)\n    return y\nd=function(a)\nb= function(int(c)*int(a))\nprint(int(c)*int(d))\nprint(b)",
      "metadata": {
        "collapsed": false,
        "pycharm": {
          "name": "#%%\n"
        },
        "jupyter": {
          "outputs_hidden": false
        },
        "trusted": true
      },
      "execution_count": 1,
      "outputs": [
        {
          "name": "stdout",
          "output_type": "stream",
          "text": "75\n\n75\n"
        }
      ]
    },
    {
      "cell_type": "markdown",
      "source": "\tT(u+v)=T(u)+T(v)",
      "metadata": {
        "pycharm": {
          "name": "#%% md\n"
        }
      }
    },
    {
      "cell_type": "code",
      "source": "# prove here\na=input(\"x1:\")\nb=input(\"x2:\")\ndef function(x):\n    y=5*int(x)\n    return y\nc=function(a)\nd=function(b)\ne=function(int(a)+int(b))\nprint(f\"{int(c)}+{int(d)}={int(e)}\")",
      "metadata": {
        "collapsed": false,
        "pycharm": {
          "name": "#%%\n"
        },
        "jupyter": {
          "outputs_hidden": false
        },
        "trusted": true
      },
      "execution_count": 2,
      "outputs": [
        {
          "name": "stdout",
          "output_type": "stream",
          "text": "25+15=40\n"
        }
      ]
    },
    {
      "cell_type": "code",
      "source": "",
      "metadata": {
        "pycharm": {
          "name": "#%%\n"
        }
      },
      "execution_count": null,
      "outputs": []
    }
  ]
}