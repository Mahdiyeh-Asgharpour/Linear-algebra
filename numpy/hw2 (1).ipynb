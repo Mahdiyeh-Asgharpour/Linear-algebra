{
 "cells": [
  {
   "cell_type": "code",
   "execution_count": 25,
   "metadata": {
    "ExecuteTime": {
     "end_time": "2023-04-23T16:20:30.076349Z",
     "start_time": "2023-04-23T16:20:29.936513Z"
    }
   },
   "outputs": [],
   "source": [
    "import numpy as np"
   ]
  },
  {
   "cell_type": "markdown",
   "metadata": {},
   "source": [
    "گرفتن ورودی به‌عنوان ماتریس"
   ]
  },
  {
   "cell_type": "code",
   "execution_count": 26,
   "metadata": {
    "ExecuteTime": {
     "end_time": "2023-04-23T16:16:25.269081Z",
     "start_time": "2023-04-23T16:16:25.264570Z"
    }
   },
   "outputs": [],
   "source": [
    "def to_matrix(input_matrix):\n",
    "    input_list = eval(input_matrix)\n",
    "\n",
    "    row = 1 if isinstance(input_list[0], int) else len(input_list[0])\n",
    "    col = len(input_list)\n",
    "\n",
    "    mtx = np.array(input_list).reshape(row, col)\n",
    "    return mtx"
   ]
  },
  {
   "cell_type": "markdown",
   "metadata": {},
   "source": [
    "zدر سلول زیر بخش مربوط به ترانهاده را کامل کنید"
   ]
  },
  {
   "cell_type": "code",
   "execution_count": 27,
   "metadata": {
    "jupyter": {
     "outputs_hidden": false
    }
   },
   "outputs": [],
   "source": [
    "def transpose_matrix(mtx):\n",
    "    row = len(mtx)\n",
    "    col = 1 if isinstance(mtx[0], int) else len(mtx[0])\n",
    "\n",
    "    result_transpose = np.zeros((col, row), dtype=int)\n",
    "    for j in range(col):\n",
    "        for i in range(row):\n",
    "            result_transpose[j][i] = mtx[i][j]\n",
    "    print(result_transpose)"
   ]
  },
  {
   "cell_type": "markdown",
   "metadata": {},
   "source": [
    "در سلول زیر بخش مربوط به ضرب را کامل کنید\n"
   ]
  },
  {
   "cell_type": "code",
   "execution_count": 28,
   "metadata": {
    "jupyter": {
     "outputs_hidden": false
    }
   },
   "outputs": [],
   "source": [
    "def multiplication_matrix(a, b):\n",
    "    row = len(a)\n",
    "    col = 1 if isinstance(b[0], int) else len(b[0])\n",
    "    n = len(b)\n",
    "\n",
    "    result_multiplication = np.zeros((col, row), dtype=int)\n",
    "    for elements1 in range(row):\n",
    "        for j in range(col):\n",
    "            r = 0\n",
    "            for elements2 in range(n):\n",
    "                r += a[elements1][elements2] * b[elements2][j]\n",
    "            result_multiplication[elements1][j] = r\n",
    "    return result_multiplication"
   ]
  },
  {
   "cell_type": "markdown",
   "metadata": {},
   "source": [
    "در سلول زیر بخش مربوط به جمع را کامل کنید\n",
    "\n"
   ]
  },
  {
   "cell_type": "code",
   "execution_count": 29,
   "metadata": {
    "ExecuteTime": {
     "end_time": "2023-04-23T16:44:59.387309Z",
     "start_time": "2023-04-23T16:44:59.384110Z"
    }
   },
   "outputs": [],
   "source": [
    "def addition_matrix(a, b):\n",
    "    row = len(a)\n",
    "    col = 1 if isinstance(a[0], int) else len(a[0])\n",
    "\n",
    "    result_addition = np.zeros((row, col), dtype=int)\n",
    "    for elements1 in range(row):\n",
    "        for elements2 in range(col):\n",
    "                result_addition[elements1][elements2] = a[elements1][elements2] + b[elements1][elements2]\n",
    "    return result_addition"
   ]
  },
  {
   "cell_type": "markdown",
   "metadata": {},
   "source": [
    "در این قسمت به کاربر یک منو نمایش دهید تا عملیات مورد نظر خودش را انتخاب کند\n"
   ]
  },
  {
   "cell_type": "code",
   "execution_count": null,
   "metadata": {
    "jupyter": {
     "outputs_hidden": false
    },
    "scrolled": true
   },
   "outputs": [],
   "source": [
    "n = input('Please Enter What You Want to Calculate')\n",
    "first_matrix = to_matrix(input())\n",
    "if n == '1':\n",
    "    transpose_matrix(first_matrix)\n",
    "elif n ==  '2':\n",
    "    second_matrix = to_matrix(input())\n",
    "    m=multiplication_matrix(first_matrix, second_matrix)\n",
    "    print(m)\n",
    "elif n == '3':\n",
    "    second_matrix = input()\n",
    "    m=addition_matrix(first_matrix, second_matrix)\n",
    "    print(m)\n"
   ]
  },
  {
   "cell_type": "code",
   "execution_count": null,
   "metadata": {},
   "outputs": [],
   "source": [
    "# transpose\n",
    "arr1 = np.array([4,0,0,3,0,1,1,2,1,2,9])\n",
    "arr2 = np.matrix(arr1)\n",
    "arr1_transpose = arr2.transpose()\n",
    "arr1_transpose"
   ]
  },
  {
   "cell_type": "code",
   "execution_count": null,
   "metadata": {},
   "outputs": [],
   "source": [
    "# multiplication\n",
    "b = np.array([4, 0, 0, 3, 0, 1, 1, 2, 1, 2, 9])\n",
    "c = np.matrix(b)\n",
    "d = np.transpose(c)\n",
    "e = np.square(d)\n",
    "final = np.matrix.__mul__(c, e)\n",
    "final"
   ]
  },
  {
   "cell_type": "code",
   "execution_count": null,
   "metadata": {},
   "outputs": [],
   "source": [
    "# addition\n",
    "b = np.array([4, 0, 0, 3, 0, 1, 1, 2, 1, 2, 9])\n",
    "a = np.matrix(b)\n",
    "e = np.transpose(a)\n",
    "f = np.square(e)\n",
    "final = np.matrix.__add__(e, f)\n",
    "final"
   ]
  }
 ],
 "metadata": {
  "kernelspec": {
   "display_name": "Python 3 (ipykernel)",
   "language": "python",
   "name": "python3"
  },
  "language_info": {
   "codemirror_mode": {
    "name": "ipython",
    "version": 3
   },
   "file_extension": ".py",
   "mimetype": "text/x-python",
   "name": "python",
   "nbconvert_exporter": "python",
   "pygments_lexer": "ipython3",
   "version": "3.11.3"
  }
 },
 "nbformat": 4,
 "nbformat_minor": 4
}
