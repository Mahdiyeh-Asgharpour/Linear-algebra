{
  "metadata": {
    "kernelspec": {
      "name": "python3",
      "language": "python",
      "display_name": "Python 3 (ipykernel)"
    },
    "language_info": {
      "codemirror_mode": {
        "name": "python",
        "version": 3
      },
      "file_extension": ".py",
      "mimetype": "text/x-python",
      "name": "python",
      "nbconvert_exporter": "python",
      "pygments_lexer": "ipython3",
      "version": "3.8"
    }
  },
  "nbformat_minor": 4,
  "nbformat": 4,
  "cells": [
    {
      "cell_type": "markdown",
      "source": [
        ".در سلول زیر، تابعی برای محاسبه‌ی بازگشتی دترمینان تعریف کنید"
      ],
      "metadata": {}
    },
    {
      "cell_type": "code",
      "source": [
        "def determinant(matrix):\n",
        "    n = len(matrix)\n",
        "    if n == 1:\n",
        "        return matrix[0][0]\n",
        "    elif n == 2:\n",
        "        return matrix[0][0]*matrix[1][1] - matrix[0][1]*matrix[1][0]\n",
        "    else:\n",
        "        det = 0\n",
        "        for j in range(n):\n",
        "            sub_matrix = [[matrix[i][k] for k in range(n) if k != j] for i in range(1, n)]\n",
        "            det += (-1)**j * matrix[0][j] * determinant(sub_matrix)\n",
        "        return det"
      ],
      "metadata": {
        "collapsed": false,
        "jupyter": {
          "outputs_hidden": false
        },
        "trusted": true,
        "ExecuteTime": {
          "start_time": "2023-05-21T14:10:51.256286Z",
          "end_time": "2023-05-21T14:10:51.262643Z"
        }
      },
      "execution_count": 1,
      "outputs": []
    },
    {
      "cell_type": "markdown",
      "source": [
        ".در سلول زیر قانون کرامر را در تابعی پیاده‌سازی کنید"
      ],
      "metadata": {}
    },
    {
      "cell_type": "code",
      "source": [
        "import copy\n",
        "\n",
        "\n",
        "def cramer(a, b):\n",
        "    row = 1 if isinstance(a[0], int) else len(a[0])\n",
        "    col = len(a)\n",
        "\n",
        "    result_matrix = []\n",
        "\n",
        "    matrix_i = copy.deepcopy(a)\n",
        "    for j in range(row):\n",
        "        for i in range(col):\n",
        "            matrix_i[i][j] = b[i][0]\n",
        "        result_matrix.append([determinant(matrix_i) / determinant(a)])\n",
        "        matrix_i = copy.deepcopy(a)\n",
        "\n",
        "    print(result_matrix)"
      ],
      "metadata": {
        "collapsed": false,
        "jupyter": {
          "outputs_hidden": false
        }
      },
      "execution_count": 14,
      "outputs": []
    },
    {
      "cell_type": "markdown",
      "source": [
        "\tT(cX)=cT(X)"
      ],
      "metadata": {}
    },
    {
      "cell_type": "code",
      "source": [
        "# prove here\n",
        "a=input()\n",
        "c=input()\n",
        "def function(x):\n",
        "    y=5*int(x)\n",
        "    return y\n",
        "d=function(a)\n",
        "b= function(int(c)*int(a))\n",
        "print(int(c)*int(d))\n",
        "print(b)"
      ],
      "metadata": {
        "collapsed": false,
        "jupyter": {
          "outputs_hidden": false
        },
        "trusted": true
      },
      "execution_count": null,
      "outputs": []
    },
    {
      "cell_type": "markdown",
      "source": [
        "\tT(u+v)=T(u)+T(v)"
      ],
      "metadata": {}
    },
    {
      "cell_type": "code",
      "source": [
        "# prove here\n",
        "a=input(\"x1:\")\n",
        "b=input(\"x2:\")\n",
        "def function(x):\n",
        "    y=5*int(x)\n",
        "    return y\n",
        "c=function(a)\n",
        "d=function(b)\n",
        "e=function(int(a)+int(b))\n",
        "print(f\"{int(c)}+{int(d)}={int(e)}\")"
      ],
      "metadata": {
        "collapsed": false,
        "jupyter": {
          "outputs_hidden": false
        },
        "trusted": true
      },
      "execution_count": 2,
      "outputs": [
        {
          "name": "stdout",
          "output_type": "stream",
          "text": "25+15=40\n"
        }
      ]
    }
  ]
}
