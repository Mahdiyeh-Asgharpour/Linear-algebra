{
  "metadata": {
    "language_info": {
      "codemirror_mode": {
        "name": "python",
        "version": 3
      },
      "file_extension": ".py",
      "mimetype": "text/x-python",
      "name": "python",
      "nbconvert_exporter": "python",
      "pygments_lexer": "ipython3",
      "version": "3.8"
    },
    "kernelspec": {
      "name": "python",
      "display_name": "Python (Pyodide)",
      "language": "python"
    }
  },
  "nbformat_minor": 4,
  "nbformat": 4,
  "cells": [
    {
      "cell_type": "code",
      "source": "#1\nimport numpy as np\nb=np.array([[1,2,3],[4,5,6],[7,8,9]])\nc=np.array([[9,8,7],[6,5,4],[3,2,1]])\n# a=np.sum(b,c)\nprint(b+c)",
      "metadata": {
        "trusted": true
      },
      "execution_count": 38,
      "outputs": [
        {
          "name": "stdout",
          "text": "[[10 10 10]\n [10 10 10]\n [10 10 10]]\n",
          "output_type": "stream"
        }
      ]
    },
    {
      "cell_type": "code",
      "source": "#2\nimport numpy as np\nb=np.array([[0,0,1],[0,0,1],[0,0,0]])\nc=np.array([[1,1,0],[0,0,0],[1,0,1]])\n#b@c\nprint(b.dot(c))\n#zarb matrix\n#zarb deraye be deraye:b*c",
      "metadata": {
        "trusted": true
      },
      "execution_count": 27,
      "outputs": [
        {
          "name": "stdout",
          "text": "[[1 0 1]\n [1 0 1]\n [0 0 0]]\n",
          "output_type": "stream"
        }
      ]
    },
    {
      "cell_type": "code",
      "source": "#3\nimport numpy as np\na=np.ones((2,2))\nprint(a)",
      "metadata": {
        "trusted": true
      },
      "execution_count": 25,
      "outputs": [
        {
          "name": "stdout",
          "text": "[[1. 1.]\n [1. 1.]]\n",
          "output_type": "stream"
        }
      ]
    },
    {
      "cell_type": "code",
      "source": "#4",
      "metadata": {
        "trusted": true
      },
      "execution_count": 36,
      "outputs": []
    },
    {
      "cell_type": "code",
      "source": "#5\nimport numpy as np\nprint(np.arange(1,100,4))",
      "metadata": {
        "trusted": true
      },
      "execution_count": 32,
      "outputs": [
        {
          "name": "stdout",
          "text": "[ 1  5  9 13 17 21 25 29 33 37 41 45 49 53 57 61 65 69 73 77 81 85 89 93\n 97]\n",
          "output_type": "stream"
        }
      ]
    },
    {
      "cell_type": "code",
      "source": "#6",
      "metadata": {},
      "execution_count": null,
      "outputs": []
    },
    {
      "cell_type": "code",
      "source": "#7\nimport numpy as np\nprint(np.linspace( 50, 150, 10 ))",
      "metadata": {
        "trusted": true
      },
      "execution_count": 33,
      "outputs": [
        {
          "name": "stdout",
          "text": "[ 50.          61.11111111  72.22222222  83.33333333  94.44444444\n 105.55555556 116.66666667 127.77777778 138.88888889 150.        ]\n",
          "output_type": "stream"
        }
      ]
    },
    {
      "cell_type": "code",
      "source": "#8",
      "metadata": {},
      "execution_count": null,
      "outputs": []
    }
  ]
}